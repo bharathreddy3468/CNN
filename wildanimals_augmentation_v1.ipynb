{
 "cells": [
  {
   "cell_type": "code",
   "execution_count": 1,
   "metadata": {},
   "outputs": [],
   "source": [
    "import os\n",
    "from skimage.transform import resize\n",
    "import matplotlib.pyplot as plt\n",
    "%matplotlib inline"
   ]
  },
  {
   "cell_type": "code",
   "execution_count": 2,
   "metadata": {},
   "outputs": [],
   "source": [
    "dir = 'C:\\\\Users\\\\saraswathi\\\\Desktop\\\\wild animals'"
   ]
  },
  {
   "cell_type": "code",
   "execution_count": 22,
   "metadata": {},
   "outputs": [],
   "source": [
    "labels = ['cheetahs', 'elephants', 'lions', 'tigers']"
   ]
  },
  {
   "cell_type": "code",
   "execution_count": 36,
   "metadata": {},
   "outputs": [],
   "source": [
    "img_list = []\n",
    "for i in range(len(labels)):\n",
    "    img_ = []\n",
    "    path = os.path.join(dir, labels[i])\n",
    "    paths = os.listdir(path)\n",
    "    for path_ in paths:\n",
    "        img = plt.imread(os.path.join(path, path_))\n",
    "        img = resize(img, (224,224))\n",
    "        img = img.reshape(1, 224, 224, 3)\n",
    "        img = img.astype('float')\n",
    "        img_.append(img)\n",
    "    img_list.append(img_)"
   ]
  },
  {
   "cell_type": "code",
   "execution_count": 39,
   "metadata": {},
   "outputs": [],
   "source": [
    "folds = ['train', 'val']\n",
    "for fold in folds:\n",
    "    path = os.path.join(dir, fold)\n",
    "    if not(os.path.isdir(path)):\n",
    "        os.mkdir(path)\n",
    "    for i in range(len(labels)):\n",
    "        path_ = os.path.join(path, labels[i])\n",
    "        if not(os.path.isdir(path_)):\n",
    "            os.mkdir(path_)"
   ]
  },
  {
   "cell_type": "code",
   "execution_count": 31,
   "metadata": {},
   "outputs": [],
   "source": [
    "import tensorflow as tf\n",
    "ip = tf.keras.applications.vgg16.preprocess_input"
   ]
  },
  {
   "cell_type": "code",
   "execution_count": 34,
   "metadata": {},
   "outputs": [],
   "source": [
    "train_datagen = tf.keras.preprocessing.image.ImageDataGenerator(\n",
    "    rotation_range=0,\n",
    "    width_shift_range=0.25,\n",
    "    height_shift_range=0.25,\n",
    "    brightness_range=(-0.2,1),\n",
    "    shear_range=0.0,\n",
    "    zoom_range=0.3,\n",
    "    channel_shift_range=0.0,\n",
    "    fill_mode=\"nearest\",\n",
    "    cval=0.0,\n",
    "    horizontal_flip=True,\n",
    "    vertical_flip=False,\n",
    "    rescale=None,\n",
    "    preprocessing_function=ip,\n",
    "    data_format=None,\n",
    "    validation_split=0.0,\n",
    "    dtype='float',\n",
    ")\n",
    "\n",
    "val_datagen = tf.keras.preprocessing.image.ImageDataGenerator(\n",
    "    rescale=None,\n",
    "    zoom_range=0.3,\n",
    "    rotation_range=30,\n",
    ")\n"
   ]
  },
  {
   "cell_type": "code",
   "execution_count": null,
   "metadata": {},
   "outputs": [],
   "source": [
    "for i in range(4):\n",
    "    for x in range(5):\n",
    "        j = 1\n",
    "        for batch in train_datagen.flow(img_list[i][x], batch_size=1,\n",
    "                                  save_to_dir=dir+'/'+'train'+'/'+labels[i],\n",
    "                                  save_prefix=labels[i]):\n",
    "            j += 1\n",
    "            if j>20:\n",
    "                break"
   ]
  },
  {
   "cell_type": "code",
   "execution_count": 40,
   "metadata": {
    "scrolled": true
   },
   "outputs": [],
   "source": [
    "for i in range(4):\n",
    "    for x in range(5):\n",
    "        j = 1\n",
    "        for batch in val_datagen.flow(img_list[i][x], batch_size=1,\n",
    "                                  save_to_dir=dir+'/'+'val'+'/'+labels[i],\n",
    "                                  save_prefix=labels[i]):\n",
    "            j += 1\n",
    "            if j>4:\n",
    "                break"
   ]
  },
  {
   "cell_type": "code",
   "execution_count": null,
   "metadata": {},
   "outputs": [],
   "source": []
  }
 ],
 "metadata": {
  "kernelspec": {
   "display_name": "Python 3",
   "language": "python",
   "name": "python3"
  },
  "language_info": {
   "codemirror_mode": {
    "name": "ipython",
    "version": 3
   },
   "file_extension": ".py",
   "mimetype": "text/x-python",
   "name": "python",
   "nbconvert_exporter": "python",
   "pygments_lexer": "ipython3",
   "version": "3.8.5"
  }
 },
 "nbformat": 4,
 "nbformat_minor": 4
}
